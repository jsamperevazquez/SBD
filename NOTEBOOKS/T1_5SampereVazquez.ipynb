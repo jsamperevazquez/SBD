{
 "cells": [
  {
   "cell_type": "markdown",
   "id": "af247b00-fef6-4ff4-9528-7fb6fbe760c1",
   "metadata": {},
   "source": [
    "# TAREA 1.5 GESTIÓN DE DATAFRAMES\n",
    "## *Importamos librerías necesarias*"
   ]
  },
  {
   "cell_type": "code",
   "execution_count": 1,
   "id": "ff921909-ef95-411d-b2dd-5bf20480c0ca",
   "metadata": {},
   "outputs": [],
   "source": [
    "import pandas as pd\n",
    "import warnings"
   ]
  },
  {
   "cell_type": "markdown",
   "id": "fc96d31d-c846-424b-b60f-edf1f1c658ca",
   "metadata": {},
   "source": [
    "## 1- Carga de datos\n",
    "* Carga el fichero ListadoVentasAgosto23.csv con los datos en un dataframe de Pandas."
   ]
  },
  {
   "cell_type": "code",
   "execution_count": 2,
   "id": "45e5937c-51df-4a91-9ad7-c9207426403a",
   "metadata": {},
   "outputs": [],
   "source": [
    "warnings.filterwarnings('ignore')\n",
    "df = pd.read_csv(\n",
    "    'T1.5VentasAgosto23.csv',\n",
    "    encoding='windows-1252',\n",
    "    decimal=\",\",\n",
    "    parse_dates=['Fechanacimiento', 'FechaCompra']\n",
    ")"
   ]
  },
  {
   "cell_type": "code",
   "execution_count": 3,
   "id": "ef502fbb-8f52-4d21-aacf-c6d02340a467",
   "metadata": {},
   "outputs": [
    {
     "name": "stdout",
     "output_type": "stream",
     "text": [
      "    IDCliente Fechanacimiento  Edad  Artículos Importe FechaCompra\n",
      "994     C0995      1978-09-10    45         20  787.18  2023-08-26\n",
      "995     C0996      1986-05-22    37          5  477.31  2023-12-08\n",
      "996     C0997      1987-01-20    36         20  308.88  2023-08-25\n",
      "997     C0998      1998-03-09    25          6  266.94  2023-08-21\n",
      "998     C0999      1976-05-12    47          7   11.33  2023-02-08\n"
     ]
    }
   ],
   "source": [
    "print(df.tail())"
   ]
  },
  {
   "cell_type": "code",
   "execution_count": 4,
   "id": "4f93dc4b-774f-44f3-a185-7db49ff22bf3",
   "metadata": {},
   "outputs": [
    {
     "name": "stdout",
     "output_type": "stream",
     "text": [
      "<class 'pandas.core.frame.DataFrame'>\n",
      "RangeIndex: 999 entries, 0 to 998\n",
      "Data columns (total 6 columns):\n",
      " #   Column           Non-Null Count  Dtype         \n",
      "---  ------           --------------  -----         \n",
      " 0   IDCliente        999 non-null    object        \n",
      " 1   Fechanacimiento  999 non-null    datetime64[ns]\n",
      " 2   Edad             999 non-null    int64         \n",
      " 3   Artículos        999 non-null    int64         \n",
      " 4   Importe          999 non-null    object        \n",
      " 5   FechaCompra      999 non-null    datetime64[ns]\n",
      "dtypes: datetime64[ns](2), int64(2), object(2)\n",
      "memory usage: 47.0+ KB\n",
      "None\n"
     ]
    }
   ],
   "source": [
    "print(df.info())"
   ]
  },
  {
   "cell_type": "markdown",
   "id": "6fc431f9-66ea-409a-9e3d-59184977171e",
   "metadata": {},
   "source": [
    "## 2- Extracción de subconjunto\n",
    "Imprime por pantalla: \n",
    "* Todas las filas de las columnas Edad y Número de elementos."
   ]
  },
  {
   "cell_type": "code",
   "execution_count": 5,
   "id": "e0905014-be00-4ae4-ab1c-119d1860f199",
   "metadata": {},
   "outputs": [
    {
     "name": "stdout",
     "output_type": "stream",
     "text": [
      "0      39\n",
      "1      37\n",
      "2      33\n",
      "3      27\n",
      "4      39\n",
      "       ..\n",
      "994    45\n",
      "995    37\n",
      "996    36\n",
      "997    25\n",
      "998    47\n",
      "Name: Edad, Length: 999, dtype: int64 y numero de elementos: 999\n"
     ]
    }
   ],
   "source": [
    "print(f\"{df['Edad']} y numero de elementos: {len(df['Edad'])}\")"
   ]
  },
  {
   "cell_type": "markdown",
   "id": "97ca99a2-a24d-47d2-8386-f3b09cdeb8cb",
   "metadata": {},
   "source": [
    "* Valores de Edad y Artículos para el segundo y tercer registro."
   ]
  },
  {
   "cell_type": "code",
   "execution_count": 6,
   "id": "efb6f49f-d75e-491e-a7f7-ff9393ed24b0",
   "metadata": {},
   "outputs": [
    {
     "name": "stdout",
     "output_type": "stream",
     "text": [
      "   Edad  Artículos\n",
      "1    37         19\n",
      "2    33         14\n"
     ]
    }
   ],
   "source": [
    "print(df.loc[1:2, ['Edad', 'Artículos']])"
   ]
  },
  {
   "cell_type": "markdown",
   "id": "cb373386-3617-4738-a0bd-e7d176b63153",
   "metadata": {},
   "source": [
    "* Fecha de compra para los últimos 5 registros."
   ]
  },
  {
   "cell_type": "code",
   "execution_count": 7,
   "id": "4ba917e8-7ab6-489b-966d-2eedb412c91d",
   "metadata": {},
   "outputs": [
    {
     "name": "stdout",
     "output_type": "stream",
     "text": [
      "994   2023-08-26\n",
      "995   2023-12-08\n",
      "996   2023-08-25\n",
      "997   2023-08-21\n",
      "998   2023-02-08\n",
      "Name: FechaCompra, dtype: datetime64[ns]\n"
     ]
    }
   ],
   "source": [
    "print(df['FechaCompra'].tail()) # Por defecto carga los últimos 5 si no tail(n)"
   ]
  },
  {
   "cell_type": "code",
   "execution_count": 8,
   "id": "9483d105-8e5a-41c4-b511-6d4d081794d8",
   "metadata": {},
   "outputs": [
    {
     "name": "stdout",
     "output_type": "stream",
     "text": [
      "<class 'pandas.core.frame.DataFrame'>\n",
      "RangeIndex: 999 entries, 0 to 998\n",
      "Data columns (total 6 columns):\n",
      " #   Column           Non-Null Count  Dtype         \n",
      "---  ------           --------------  -----         \n",
      " 0   IDCliente        999 non-null    object        \n",
      " 1   Fechanacimiento  999 non-null    datetime64[ns]\n",
      " 2   Edad             999 non-null    int64         \n",
      " 3   Artículos        999 non-null    int64         \n",
      " 4   Importe          999 non-null    object        \n",
      " 5   FechaCompra      999 non-null    datetime64[ns]\n",
      "dtypes: datetime64[ns](2), int64(2), object(2)\n",
      "memory usage: 47.0+ KB\n",
      "None\n"
     ]
    }
   ],
   "source": [
    "print(df.info())"
   ]
  },
  {
   "cell_type": "markdown",
   "id": "81aaf1c4-aa03-437c-b9fe-ab74d51f9dec",
   "metadata": {},
   "source": [
    "## 3- Carga de datos indicando los índices\n",
    "Vuelve a cargar el dataframe de forma que tome el primer valor de cada registro como el índice. \n",
    "\n",
    "Vuelve a ejecutar .info() para verificar que IDCliente ya no es una columna."
   ]
  },
  {
   "cell_type": "code",
   "execution_count": 9,
   "id": "9176d6a5-9e7f-4dc0-8c6b-c0ab5191056e",
   "metadata": {},
   "outputs": [],
   "source": [
    "df = pd.read_csv(\n",
    "    'T1.5VentasAgosto23.csv',\n",
    "    encoding='windows-1252',\n",
    "    decimal=\",\",\n",
    "    parse_dates=['Fechanacimiento', 'FechaCompra'],\n",
    "    index_col=['IDCliente']\n",
    ")"
   ]
  },
  {
   "cell_type": "code",
   "execution_count": 10,
   "id": "8eb4fb89-fe55-475a-9093-c1da6f01fa86",
   "metadata": {},
   "outputs": [
    {
     "name": "stdout",
     "output_type": "stream",
     "text": [
      "          Fechanacimiento  Edad  Artículos Importe FechaCompra\n",
      "IDCliente                                                     \n",
      "C0001          1984-08-12    39         14  803.89  2023-05-08\n",
      "C0002          1986-12-08    37         19  136.35  2023-08-18\n",
      "C0003          1990-04-16    33         14  287.17  2023-04-08\n",
      "C0004          1996-02-12    27          7  672.57  2023-08-16\n",
      "C0005          1984-05-14    39         13  170.12  2023-02-08\n"
     ]
    }
   ],
   "source": [
    "print(df.head())"
   ]
  },
  {
   "cell_type": "code",
   "execution_count": 11,
   "id": "03846f6e-9247-43d5-9a05-2199f98b6248",
   "metadata": {},
   "outputs": [
    {
     "name": "stdout",
     "output_type": "stream",
     "text": [
      "<class 'pandas.core.frame.DataFrame'>\n",
      "Index: 999 entries, C0001 to C0999\n",
      "Data columns (total 5 columns):\n",
      " #   Column           Non-Null Count  Dtype         \n",
      "---  ------           --------------  -----         \n",
      " 0   Fechanacimiento  999 non-null    datetime64[ns]\n",
      " 1   Edad             999 non-null    int64         \n",
      " 2   Artículos        999 non-null    int64         \n",
      " 3   Importe          999 non-null    object        \n",
      " 4   FechaCompra      999 non-null    datetime64[ns]\n",
      "dtypes: datetime64[ns](2), int64(2), object(1)\n",
      "memory usage: 46.8+ KB\n",
      "None\n"
     ]
    }
   ],
   "source": [
    "print(df.info())"
   ]
  },
  {
   "cell_type": "markdown",
   "id": "24178b0b-90b2-4880-b440-0e9f65c0726f",
   "metadata": {},
   "source": [
    "## 4- Índice con mayor importe\n",
    "Recupera el índice de la fila con el mayor importe."
   ]
  },
  {
   "cell_type": "code",
   "execution_count": 12,
   "id": "a89f5bf6-1772-476e-a1a9-bb9527c369f1",
   "metadata": {},
   "outputs": [
    {
     "name": "stdout",
     "output_type": "stream",
     "text": [
      "Codigo cliente: C0129 con un importe de 997.36\n"
     ]
    }
   ],
   "source": [
    "id_max = df['Importe'].idxmax()\n",
    "imp_max = df['Importe'].max()\n",
    "print(f\"Codigo cliente: {id_max} con un importe de {imp_max}\")"
   ]
  },
  {
   "cell_type": "code",
   "execution_count": 13,
   "id": "001ea722-9107-44e3-8616-9b3ba6b3efe0",
   "metadata": {},
   "outputs": [
    {
     "name": "stdout",
     "output_type": "stream",
     "text": [
      "          Fechanacimiento  Edad  Artículos Importe FechaCompra\n",
      "IDCliente                                                     \n",
      "C0001          1984-08-12    39         14  803.89  2023-05-08\n",
      "C0002          1986-12-08    37         19  136.35  2023-08-18\n",
      "C0003          1990-04-16    33         14  287.17  2023-04-08\n",
      "C0004          1996-02-12    27          7  672.57  2023-08-16\n",
      "C0005          1984-05-14    39         13  170.12  2023-02-08\n",
      "<class 'pandas.core.frame.DataFrame'>\n",
      "Index: 999 entries, C0001 to C0999\n",
      "Data columns (total 5 columns):\n",
      " #   Column           Non-Null Count  Dtype         \n",
      "---  ------           --------------  -----         \n",
      " 0   Fechanacimiento  999 non-null    datetime64[ns]\n",
      " 1   Edad             999 non-null    int64         \n",
      " 2   Artículos        999 non-null    int64         \n",
      " 3   Importe          999 non-null    object        \n",
      " 4   FechaCompra      999 non-null    datetime64[ns]\n",
      "dtypes: datetime64[ns](2), int64(2), object(1)\n",
      "memory usage: 46.8+ KB\n",
      "None\n"
     ]
    }
   ],
   "source": [
    "print(df.head())\n",
    "print(df.info())"
   ]
  },
  {
   "cell_type": "markdown",
   "id": "69d9e829-89f2-4280-b0ff-e37ef060c175",
   "metadata": {},
   "source": [
    "## 5- Asignar un valor a varios elementos\n",
    "Decides que aquellos clientes que tengan una compra inferior a 25€ les vas a poner un valor de 10."
   ]
  },
  {
   "cell_type": "markdown",
   "id": "7b228750-309c-4d4a-a078-8ed5f11c4a66",
   "metadata": {},
   "source": [
    "**Como el df.info() dice que importe es tipo object cambiamos a numeric:**"
   ]
  },
  {
   "cell_type": "code",
   "execution_count": 14,
   "id": "dbfe7c9e-2436-4ee3-a504-5801bdc4c0f4",
   "metadata": {},
   "outputs": [],
   "source": [
    "df['Importe'] = pd.to_numeric(df['Importe'])"
   ]
  },
  {
   "cell_type": "markdown",
   "id": "97363853-5080-41bf-a437-b6160185fbf6",
   "metadata": {},
   "source": [
    "* Ahora si podemos asignar valor numérico: "
   ]
  },
  {
   "cell_type": "code",
   "execution_count": 15,
   "id": "f9ee1e92-91c6-4566-b9d9-89ec97db9700",
   "metadata": {},
   "outputs": [],
   "source": [
    "df.loc[df['Importe'] < 25, 'Importe'] = 10"
   ]
  },
  {
   "cell_type": "markdown",
   "id": "900c92d5-0aa5-4f58-a4a5-3d3c9d5403ee",
   "metadata": {},
   "source": [
    "* Comprobamos ordenando por Importe de mayor a menor:"
   ]
  },
  {
   "cell_type": "code",
   "execution_count": 16,
   "id": "3399d3ff-ef58-48da-abfa-d79ff9ce7da4",
   "metadata": {},
   "outputs": [
    {
     "name": "stdout",
     "output_type": "stream",
     "text": [
      "          Fechanacimiento  Edad  Artículos  Importe FechaCompra\n",
      "IDCliente                                                      \n",
      "C0030          1997-03-14    26         19     10.0  2023-08-16\n",
      "C0296          1973-07-13    50          9     10.0  2023-08-15\n",
      "C0737          1996-02-11    27         17     10.0  2023-10-08\n",
      "C0733          1980-03-08    43          1     10.0  2023-08-24\n",
      "C0999          1976-05-12    47          7     10.0  2023-02-08\n"
     ]
    }
   ],
   "source": [
    "print (df.sort_values(by=['Importe'], ascending=False).tail())"
   ]
  },
  {
   "cell_type": "markdown",
   "id": "d7ab2e91-7427-4b51-92bd-572fd4a60511",
   "metadata": {},
   "source": [
    "# 6- Ordenar el Dataframe\n",
    "1. Ordenar las filas del dataframe de modo que el importe se muestre en orden descendente. \n",
    "2. Debes modificar el dataframe original para que este cambio sea definitivo. \n",
    "3. Imprime por pantalla el dataframe anterior, pero ordenado por el índice de forma ascendente (IDCliente). En esta ordenación no debes modificar el dataframe original.\n"
   ]
  },
  {
   "cell_type": "code",
   "execution_count": 17,
   "id": "b22339ad-31a3-429b-b387-86207cb3e2d7",
   "metadata": {},
   "outputs": [
    {
     "name": "stdout",
     "output_type": "stream",
     "text": [
      "          Fechanacimiento  Edad  Artículos  Importe FechaCompra\n",
      "IDCliente                                                      \n",
      "C0129          1975-08-20    48         11   997.36  2023-08-27\n",
      "C0975          1986-12-08    37          1   995.56  2023-02-08\n",
      "C0709          1977-11-14    46          5   993.91  2023-08-24\n",
      "C0993          1979-03-29    44         15   993.51  2023-11-08\n",
      "C0127          1999-10-15    24         19   991.28  2023-06-08\n",
      "...                   ...   ...        ...      ...         ...\n",
      "C0030          1997-03-14    26         19    10.00  2023-08-16\n",
      "C0296          1973-07-13    50          9    10.00  2023-08-15\n",
      "C0737          1996-02-11    27         17    10.00  2023-10-08\n",
      "C0733          1980-03-08    43          1    10.00  2023-08-24\n",
      "C0999          1976-05-12    47          7    10.00  2023-02-08\n",
      "\n",
      "[999 rows x 5 columns]\n"
     ]
    }
   ],
   "source": [
    "# Ordenar\n",
    "df = df.sort_values(by=['Importe'], ascending=False)\n",
    "print (df)"
   ]
  },
  {
   "cell_type": "code",
   "execution_count": 18,
   "id": "b97b8ac1-4d03-4614-af27-ee0218462067",
   "metadata": {},
   "outputs": [
    {
     "name": "stdout",
     "output_type": "stream",
     "text": [
      "          Fechanacimiento  Edad  Artículos  Importe FechaCompra\n",
      "IDCliente                                                      \n",
      "C0001          1984-08-12    39         14   803.89  2023-05-08\n",
      "C0002          1986-12-08    37         19   136.35  2023-08-18\n",
      "C0003          1990-04-16    33         14   287.17  2023-04-08\n",
      "C0004          1996-02-12    27          7   672.57  2023-08-16\n",
      "C0005          1984-05-14    39         13   170.12  2023-02-08\n",
      "...                   ...   ...        ...      ...         ...\n",
      "C0995          1978-09-10    45         20   787.18  2023-08-26\n",
      "C0996          1986-05-22    37          5   477.31  2023-12-08\n",
      "C0997          1987-01-20    36         20   308.88  2023-08-25\n",
      "C0998          1998-03-09    25          6   266.94  2023-08-21\n",
      "C0999          1976-05-12    47          7    10.00  2023-02-08\n",
      "\n",
      "[999 rows x 5 columns]\n"
     ]
    }
   ],
   "source": [
    "# Imprimo por orden ascendente sin modificar\n",
    "print(df.sort_values(by=['IDCliente'], ascending=True))\n"
   ]
  },
  {
   "cell_type": "code",
   "execution_count": 19,
   "id": "a4a436de-ef44-4bc4-a032-d4f0ece10d36",
   "metadata": {},
   "outputs": [
    {
     "name": "stdout",
     "output_type": "stream",
     "text": [
      "          Fechanacimiento  Edad  Artículos  Importe FechaCompra\n",
      "IDCliente                                                      \n",
      "C0129          1975-08-20    48         11   997.36  2023-08-27\n",
      "C0975          1986-12-08    37          1   995.56  2023-02-08\n",
      "C0709          1977-11-14    46          5   993.91  2023-08-24\n",
      "C0993          1979-03-29    44         15   993.51  2023-11-08\n",
      "C0127          1999-10-15    24         19   991.28  2023-06-08\n",
      "<class 'pandas.core.frame.DataFrame'>\n",
      "Index: 999 entries, C0129 to C0999\n",
      "Data columns (total 5 columns):\n",
      " #   Column           Non-Null Count  Dtype         \n",
      "---  ------           --------------  -----         \n",
      " 0   Fechanacimiento  999 non-null    datetime64[ns]\n",
      " 1   Edad             999 non-null    int64         \n",
      " 2   Artículos        999 non-null    int64         \n",
      " 3   Importe          999 non-null    float64       \n",
      " 4   FechaCompra      999 non-null    datetime64[ns]\n",
      "dtypes: datetime64[ns](2), float64(1), int64(2)\n",
      "memory usage: 46.8+ KB\n",
      "None\n"
     ]
    }
   ],
   "source": [
    "print(df.head())\n",
    "print(df.info())"
   ]
  },
  {
   "cell_type": "markdown",
   "id": "0834ca9c-b284-4703-87d0-a49f9e9afb7b",
   "metadata": {},
   "source": [
    "## 7- Reindexar el dataframe\n",
    "Modificar los índices del dataframe, añadiendo una “c” antes del número. \n",
    "Es decir, los índices de las filas serán: “c1, c2, ..., c10,...”. \n",
    "El cambio debe ser permanente."
   ]
  },
  {
   "cell_type": "code",
   "execution_count": 20,
   "id": "cfd751d7-9aa7-4052-9248-ba66f3777ed2",
   "metadata": {},
   "outputs": [],
   "source": [
    "# Usamos lambda con rename y replace\n",
    "df = df.rename(index=lambda x: x.replace('0', ''))"
   ]
  },
  {
   "cell_type": "code",
   "execution_count": 21,
   "id": "a16a8396-46fb-4b6c-87bc-936a5e8a1695",
   "metadata": {},
   "outputs": [
    {
     "name": "stdout",
     "output_type": "stream",
     "text": [
      "          Fechanacimiento  Edad  Artículos  Importe FechaCompra\n",
      "IDCliente                                                      \n",
      "C129           1975-08-20    48         11   997.36  2023-08-27\n",
      "C975           1986-12-08    37          1   995.56  2023-02-08\n",
      "C79            1977-11-14    46          5   993.91  2023-08-24\n",
      "C993           1979-03-29    44         15   993.51  2023-11-08\n",
      "C127           1999-10-15    24         19   991.28  2023-06-08\n"
     ]
    }
   ],
   "source": [
    "print(df.head())"
   ]
  },
  {
   "cell_type": "code",
   "execution_count": 22,
   "id": "6332b64b-7cc5-451b-bf7f-8f979bb60111",
   "metadata": {},
   "outputs": [
    {
     "name": "stdout",
     "output_type": "stream",
     "text": [
      "<class 'pandas.core.frame.DataFrame'>\n",
      "Index: 999 entries, C129 to C999\n",
      "Data columns (total 5 columns):\n",
      " #   Column           Non-Null Count  Dtype         \n",
      "---  ------           --------------  -----         \n",
      " 0   Fechanacimiento  999 non-null    datetime64[ns]\n",
      " 1   Edad             999 non-null    int64         \n",
      " 2   Artículos        999 non-null    int64         \n",
      " 3   Importe          999 non-null    float64       \n",
      " 4   FechaCompra      999 non-null    datetime64[ns]\n",
      "dtypes: datetime64[ns](2), float64(1), int64(2)\n",
      "memory usage: 46.8+ KB\n",
      "None\n"
     ]
    }
   ],
   "source": [
    "print(df.info())"
   ]
  },
  {
   "cell_type": "markdown",
   "id": "9b6b0576-acd8-442f-9d4a-b6c16fef8ef9",
   "metadata": {},
   "source": [
    "# 8- Aplicar función a los datos de las columnas\n",
    "Diferencia entre el máximo y el mínimo.  \n",
    "Debes hacerlo en el menor número de instrucciones posible."
   ]
  },
  {
   "cell_type": "code",
   "execution_count": 23,
   "id": "3d4a33c2-6697-49a7-9643-f77ecd0264d7",
   "metadata": {},
   "outputs": [],
   "source": [
    "# Función que recibe parámetros a evaluar\n",
    "def calculate_difference(n1, n2):\n",
    "    return n1 - n2"
   ]
  },
  {
   "cell_type": "code",
   "execution_count": 24,
   "id": "6a5dcd08-7e80-4312-8704-47f7c94efc2d",
   "metadata": {},
   "outputs": [
    {
     "name": "stdout",
     "output_type": "stream",
     "text": [
      "987.36\n"
     ]
    }
   ],
   "source": [
    "print(calculate_difference(df['Importe'].max(), df['Importe'].min()))"
   ]
  },
  {
   "cell_type": "code",
   "execution_count": 25,
   "id": "c41062b8-0adb-4fbe-b926-6fe7da5a0b51",
   "metadata": {},
   "outputs": [
    {
     "name": "stdout",
     "output_type": "stream",
     "text": [
      "          Fechanacimiento  Edad  Artículos  Importe FechaCompra\n",
      "IDCliente                                                      \n",
      "C129           1975-08-20    48         11   997.36  2023-08-27\n",
      "C975           1986-12-08    37          1   995.56  2023-02-08\n",
      "C79            1977-11-14    46          5   993.91  2023-08-24\n",
      "C993           1979-03-29    44         15   993.51  2023-11-08\n",
      "C127           1999-10-15    24         19   991.28  2023-06-08\n",
      "<class 'pandas.core.frame.DataFrame'>\n",
      "Index: 999 entries, C129 to C999\n",
      "Data columns (total 5 columns):\n",
      " #   Column           Non-Null Count  Dtype         \n",
      "---  ------           --------------  -----         \n",
      " 0   Fechanacimiento  999 non-null    datetime64[ns]\n",
      " 1   Edad             999 non-null    int64         \n",
      " 2   Artículos        999 non-null    int64         \n",
      " 3   Importe          999 non-null    float64       \n",
      " 4   FechaCompra      999 non-null    datetime64[ns]\n",
      "dtypes: datetime64[ns](2), float64(1), int64(2)\n",
      "memory usage: 46.8+ KB\n",
      "None\n"
     ]
    }
   ],
   "source": [
    "print(df.head())\n",
    "print(df.info())"
   ]
  },
  {
   "cell_type": "markdown",
   "id": "ca0798c2-732a-4d25-8401-f54e8105ba31",
   "metadata": {},
   "source": [
    "# Correlación entre las columnas\n",
    "Obtén la correlación entre las diferentes columnas.  \n",
    "Relación completa entre ellas ??.  \n",
    "Modifica dataframe para borrar aquella que no aporta nueva información."
   ]
  },
  {
   "cell_type": "code",
   "execution_count": 26,
   "id": "2e4e6a63-e81a-40a4-890d-a1975ac9f54c",
   "metadata": {},
   "outputs": [
    {
     "name": "stdout",
     "output_type": "stream",
     "text": [
      "                 Fechanacimiento      Edad  Artículos   Importe  FechaCompra\n",
      "Fechanacimiento         1.000000  0.254477   0.033631 -0.029320    -0.026277\n",
      "Edad                    0.254477  1.000000  -0.012766 -0.049197     0.078776\n",
      "Artículos               0.033631 -0.012766   1.000000  0.001089     0.044234\n",
      "Importe                -0.029320 -0.049197   0.001089  1.000000     0.000395\n",
      "FechaCompra            -0.026277  0.078776   0.044234  0.000395     1.000000\n"
     ]
    }
   ],
   "source": [
    "print(df.corr())"
   ]
  },
  {
   "cell_type": "code",
   "execution_count": null,
   "id": "9e0d824a-7ce1-457e-aa5d-3db7c96c0e28",
   "metadata": {},
   "outputs": [],
   "source": [
    "\"\"\"\n",
    "Hay Correlación entre fecha de nacimiento y edad pues vemos que las variables tienen relación \n",
    "lineal.\n",
    "Suprimiría la columna Edad\n",
    "\"\"\""
   ]
  },
  {
   "cell_type": "code",
   "execution_count": 27,
   "id": "aa04d69c-e41a-4c38-a2fe-3f1f96f2bd6d",
   "metadata": {},
   "outputs": [
    {
     "name": "stdout",
     "output_type": "stream",
     "text": [
      "          Fechanacimiento  Artículos  Importe FechaCompra\n",
      "IDCliente                                                \n",
      "C129           1975-08-20         11   997.36  2023-08-27\n",
      "C975           1986-12-08          1   995.56  2023-02-08\n",
      "C79            1977-11-14          5   993.91  2023-08-24\n",
      "C993           1979-03-29         15   993.51  2023-11-08\n",
      "C127           1999-10-15         19   991.28  2023-06-08\n",
      "<class 'pandas.core.frame.DataFrame'>\n",
      "Index: 999 entries, C129 to C999\n",
      "Data columns (total 4 columns):\n",
      " #   Column           Non-Null Count  Dtype         \n",
      "---  ------           --------------  -----         \n",
      " 0   Fechanacimiento  999 non-null    datetime64[ns]\n",
      " 1   Artículos        999 non-null    int64         \n",
      " 2   Importe          999 non-null    float64       \n",
      " 3   FechaCompra      999 non-null    datetime64[ns]\n",
      "dtypes: datetime64[ns](2), float64(1), int64(1)\n",
      "memory usage: 39.0+ KB\n",
      "None\n"
     ]
    }
   ],
   "source": [
    "df.drop('Edad', axis=1, inplace=True)\n",
    "print(df.head())\n",
    "print(df.info())"
   ]
  },
  {
   "cell_type": "markdown",
   "id": "091966b8-ac86-477b-9cc7-ad94ee3dd919",
   "metadata": {},
   "source": [
    "[Documentación Pandas-Dataframe](https://pandas.pydata.org/docs/reference/api/pandas.DataFrame.html)"
   ]
  }
 ],
 "metadata": {
  "kernelspec": {
   "display_name": "Python 3 (ipykernel)",
   "language": "python",
   "name": "python3"
  },
  "language_info": {
   "codemirror_mode": {
    "name": "ipython",
    "version": 3
   },
   "file_extension": ".py",
   "mimetype": "text/x-python",
   "name": "python",
   "nbconvert_exporter": "python",
   "pygments_lexer": "ipython3",
   "version": "3.11.6"
  }
 },
 "nbformat": 4,
 "nbformat_minor": 5
}
